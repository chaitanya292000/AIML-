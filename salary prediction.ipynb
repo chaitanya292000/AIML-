{
 "cells": [
  {
   "cell_type": "code",
   "execution_count": 1,
   "id": "3d9f1825",
   "metadata": {},
   "outputs": [],
   "source": [
    "# Importing essential libraries\n",
    "import numpy as np\n",
    "import pandas as pd"
   ]
  },
  {
   "cell_type": "code",
   "execution_count": 2,
   "id": "6a8482fc",
   "metadata": {},
   "outputs": [],
   "source": [
    "# Loading the dataset\n",
    "df = pd.read_csv(\"C:/Users/chait/OneDrive/Documents/Machine Learning Project 63 - Data Scientist's Salary Prediction/glassdoor_jobs.csv\")"
   ]
  },
  {
   "cell_type": "markdown",
   "id": "7d493e07",
   "metadata": {},
   "source": [
    "Exploring Dataset"
   ]
  },
  {
   "cell_type": "code",
   "execution_count": 3,
   "id": "ea9c4848",
   "metadata": {},
   "outputs": [
    {
     "data": {
      "text/plain": [
       "(956, 15)"
      ]
     },
     "execution_count": 3,
     "metadata": {},
     "output_type": "execute_result"
    }
   ],
   "source": [
    "df.shape"
   ]
  },
  {
   "cell_type": "code",
   "execution_count": 4,
   "id": "97527969",
   "metadata": {},
   "outputs": [
    {
     "data": {
      "text/plain": [
       "Index(['Unnamed: 0', 'Job Title', 'Salary Estimate', 'Job Description',\n",
       "       'Rating', 'Company Name', 'Location', 'Headquarters', 'Size', 'Founded',\n",
       "       'Type of ownership', 'Industry', 'Sector', 'Revenue', 'Competitors'],\n",
       "      dtype='object')"
      ]
     },
     "execution_count": 4,
     "metadata": {},
     "output_type": "execute_result"
    }
   ],
   "source": [
    "df.columns"
   ]
  },
  {
   "cell_type": "code",
   "execution_count": 5,
   "id": "f33b3011",
   "metadata": {},
   "outputs": [
    {
     "data": {
      "text/plain": [
       "Unnamed: 0             int64\n",
       "Job Title             object\n",
       "Salary Estimate       object\n",
       "Job Description       object\n",
       "Rating               float64\n",
       "Company Name          object\n",
       "Location              object\n",
       "Headquarters          object\n",
       "Size                  object\n",
       "Founded                int64\n",
       "Type of ownership     object\n",
       "Industry              object\n",
       "Sector                object\n",
       "Revenue               object\n",
       "Competitors           object\n",
       "dtype: object"
      ]
     },
     "execution_count": 5,
     "metadata": {},
     "output_type": "execute_result"
    }
   ],
   "source": [
    "df.dtypes"
   ]
  },
  {
   "cell_type": "code",
   "execution_count": 6,
   "id": "402e9b71",
   "metadata": {},
   "outputs": [
    {
     "data": {
      "text/html": [
       "<div>\n",
       "<style scoped>\n",
       "    .dataframe tbody tr th:only-of-type {\n",
       "        vertical-align: middle;\n",
       "    }\n",
       "\n",
       "    .dataframe tbody tr th {\n",
       "        vertical-align: top;\n",
       "    }\n",
       "\n",
       "    .dataframe thead th {\n",
       "        text-align: right;\n",
       "    }\n",
       "</style>\n",
       "<table border=\"1\" class=\"dataframe\">\n",
       "  <thead>\n",
       "    <tr style=\"text-align: right;\">\n",
       "      <th></th>\n",
       "      <th>Unnamed: 0</th>\n",
       "      <th>Job Title</th>\n",
       "      <th>Salary Estimate</th>\n",
       "      <th>Job Description</th>\n",
       "      <th>Rating</th>\n",
       "      <th>Company Name</th>\n",
       "      <th>Location</th>\n",
       "      <th>Headquarters</th>\n",
       "      <th>Size</th>\n",
       "      <th>Founded</th>\n",
       "      <th>Type of ownership</th>\n",
       "      <th>Industry</th>\n",
       "      <th>Sector</th>\n",
       "      <th>Revenue</th>\n",
       "      <th>Competitors</th>\n",
       "    </tr>\n",
       "  </thead>\n",
       "  <tbody>\n",
       "    <tr>\n",
       "      <th>0</th>\n",
       "      <td>0</td>\n",
       "      <td>Data Scientist</td>\n",
       "      <td>$53K-$91K (Glassdoor est.)</td>\n",
       "      <td>Data Scientist\\nLocation: Albuquerque, NM\\nEdu...</td>\n",
       "      <td>3.8</td>\n",
       "      <td>Tecolote Research\\n3.8</td>\n",
       "      <td>Albuquerque, NM</td>\n",
       "      <td>Goleta, CA</td>\n",
       "      <td>501 to 1000 employees</td>\n",
       "      <td>1973</td>\n",
       "      <td>Company - Private</td>\n",
       "      <td>Aerospace &amp; Defense</td>\n",
       "      <td>Aerospace &amp; Defense</td>\n",
       "      <td>$50 to $100 million (USD)</td>\n",
       "      <td>-1</td>\n",
       "    </tr>\n",
       "    <tr>\n",
       "      <th>1</th>\n",
       "      <td>1</td>\n",
       "      <td>Healthcare Data Scientist</td>\n",
       "      <td>$63K-$112K (Glassdoor est.)</td>\n",
       "      <td>What You Will Do:\\n\\nI. General Summary\\n\\nThe...</td>\n",
       "      <td>3.4</td>\n",
       "      <td>University of Maryland Medical System\\n3.4</td>\n",
       "      <td>Linthicum, MD</td>\n",
       "      <td>Baltimore, MD</td>\n",
       "      <td>10000+ employees</td>\n",
       "      <td>1984</td>\n",
       "      <td>Other Organization</td>\n",
       "      <td>Health Care Services &amp; Hospitals</td>\n",
       "      <td>Health Care</td>\n",
       "      <td>$2 to $5 billion (USD)</td>\n",
       "      <td>-1</td>\n",
       "    </tr>\n",
       "    <tr>\n",
       "      <th>2</th>\n",
       "      <td>2</td>\n",
       "      <td>Data Scientist</td>\n",
       "      <td>$80K-$90K (Glassdoor est.)</td>\n",
       "      <td>KnowBe4, Inc. is a high growth information sec...</td>\n",
       "      <td>4.8</td>\n",
       "      <td>KnowBe4\\n4.8</td>\n",
       "      <td>Clearwater, FL</td>\n",
       "      <td>Clearwater, FL</td>\n",
       "      <td>501 to 1000 employees</td>\n",
       "      <td>2010</td>\n",
       "      <td>Company - Private</td>\n",
       "      <td>Security Services</td>\n",
       "      <td>Business Services</td>\n",
       "      <td>$100 to $500 million (USD)</td>\n",
       "      <td>-1</td>\n",
       "    </tr>\n",
       "    <tr>\n",
       "      <th>3</th>\n",
       "      <td>3</td>\n",
       "      <td>Data Scientist</td>\n",
       "      <td>$56K-$97K (Glassdoor est.)</td>\n",
       "      <td>*Organization and Job ID**\\nJob ID: 310709\\n\\n...</td>\n",
       "      <td>3.8</td>\n",
       "      <td>PNNL\\n3.8</td>\n",
       "      <td>Richland, WA</td>\n",
       "      <td>Richland, WA</td>\n",
       "      <td>1001 to 5000 employees</td>\n",
       "      <td>1965</td>\n",
       "      <td>Government</td>\n",
       "      <td>Energy</td>\n",
       "      <td>Oil, Gas, Energy &amp; Utilities</td>\n",
       "      <td>$500 million to $1 billion (USD)</td>\n",
       "      <td>Oak Ridge National Laboratory, National Renewa...</td>\n",
       "    </tr>\n",
       "    <tr>\n",
       "      <th>4</th>\n",
       "      <td>4</td>\n",
       "      <td>Data Scientist</td>\n",
       "      <td>$86K-$143K (Glassdoor est.)</td>\n",
       "      <td>Data Scientist\\nAffinity Solutions / Marketing...</td>\n",
       "      <td>2.9</td>\n",
       "      <td>Affinity Solutions\\n2.9</td>\n",
       "      <td>New York, NY</td>\n",
       "      <td>New York, NY</td>\n",
       "      <td>51 to 200 employees</td>\n",
       "      <td>1998</td>\n",
       "      <td>Company - Private</td>\n",
       "      <td>Advertising &amp; Marketing</td>\n",
       "      <td>Business Services</td>\n",
       "      <td>Unknown / Non-Applicable</td>\n",
       "      <td>Commerce Signals, Cardlytics, Yodlee</td>\n",
       "    </tr>\n",
       "  </tbody>\n",
       "</table>\n",
       "</div>"
      ],
      "text/plain": [
       "   Unnamed: 0                  Job Title              Salary Estimate  \\\n",
       "0           0             Data Scientist   $53K-$91K (Glassdoor est.)   \n",
       "1           1  Healthcare Data Scientist  $63K-$112K (Glassdoor est.)   \n",
       "2           2             Data Scientist   $80K-$90K (Glassdoor est.)   \n",
       "3           3             Data Scientist   $56K-$97K (Glassdoor est.)   \n",
       "4           4             Data Scientist  $86K-$143K (Glassdoor est.)   \n",
       "\n",
       "                                     Job Description  Rating  \\\n",
       "0  Data Scientist\\nLocation: Albuquerque, NM\\nEdu...     3.8   \n",
       "1  What You Will Do:\\n\\nI. General Summary\\n\\nThe...     3.4   \n",
       "2  KnowBe4, Inc. is a high growth information sec...     4.8   \n",
       "3  *Organization and Job ID**\\nJob ID: 310709\\n\\n...     3.8   \n",
       "4  Data Scientist\\nAffinity Solutions / Marketing...     2.9   \n",
       "\n",
       "                                 Company Name         Location  \\\n",
       "0                      Tecolote Research\\n3.8  Albuquerque, NM   \n",
       "1  University of Maryland Medical System\\n3.4    Linthicum, MD   \n",
       "2                                KnowBe4\\n4.8   Clearwater, FL   \n",
       "3                                   PNNL\\n3.8     Richland, WA   \n",
       "4                     Affinity Solutions\\n2.9     New York, NY   \n",
       "\n",
       "     Headquarters                    Size  Founded   Type of ownership  \\\n",
       "0      Goleta, CA   501 to 1000 employees     1973   Company - Private   \n",
       "1   Baltimore, MD        10000+ employees     1984  Other Organization   \n",
       "2  Clearwater, FL   501 to 1000 employees     2010   Company - Private   \n",
       "3    Richland, WA  1001 to 5000 employees     1965          Government   \n",
       "4    New York, NY     51 to 200 employees     1998   Company - Private   \n",
       "\n",
       "                           Industry                        Sector  \\\n",
       "0               Aerospace & Defense           Aerospace & Defense   \n",
       "1  Health Care Services & Hospitals                   Health Care   \n",
       "2                 Security Services             Business Services   \n",
       "3                            Energy  Oil, Gas, Energy & Utilities   \n",
       "4           Advertising & Marketing             Business Services   \n",
       "\n",
       "                            Revenue  \\\n",
       "0         $50 to $100 million (USD)   \n",
       "1            $2 to $5 billion (USD)   \n",
       "2        $100 to $500 million (USD)   \n",
       "3  $500 million to $1 billion (USD)   \n",
       "4          Unknown / Non-Applicable   \n",
       "\n",
       "                                         Competitors  \n",
       "0                                                 -1  \n",
       "1                                                 -1  \n",
       "2                                                 -1  \n",
       "3  Oak Ridge National Laboratory, National Renewa...  \n",
       "4               Commerce Signals, Cardlytics, Yodlee  "
      ]
     },
     "execution_count": 6,
     "metadata": {},
     "output_type": "execute_result"
    }
   ],
   "source": [
    "df.head()"
   ]
  },
  {
   "cell_type": "code",
   "execution_count": 7,
   "id": "1f350acb",
   "metadata": {},
   "outputs": [
    {
     "name": "stdout",
     "output_type": "stream",
     "text": [
      "<class 'pandas.core.frame.DataFrame'>\n",
      "RangeIndex: 956 entries, 0 to 955\n",
      "Data columns (total 15 columns):\n",
      " #   Column             Non-Null Count  Dtype  \n",
      "---  ------             --------------  -----  \n",
      " 0   Unnamed: 0         956 non-null    int64  \n",
      " 1   Job Title          956 non-null    object \n",
      " 2   Salary Estimate    956 non-null    object \n",
      " 3   Job Description    956 non-null    object \n",
      " 4   Rating             956 non-null    float64\n",
      " 5   Company Name       956 non-null    object \n",
      " 6   Location           956 non-null    object \n",
      " 7   Headquarters       956 non-null    object \n",
      " 8   Size               956 non-null    object \n",
      " 9   Founded            956 non-null    int64  \n",
      " 10  Type of ownership  956 non-null    object \n",
      " 11  Industry           956 non-null    object \n",
      " 12  Sector             956 non-null    object \n",
      " 13  Revenue            956 non-null    object \n",
      " 14  Competitors        956 non-null    object \n",
      "dtypes: float64(1), int64(2), object(12)\n",
      "memory usage: 112.2+ KB\n"
     ]
    }
   ],
   "source": [
    "df.info()"
   ]
  },
  {
   "cell_type": "code",
   "execution_count": 8,
   "id": "0ba3d125",
   "metadata": {},
   "outputs": [
    {
     "data": {
      "text/html": [
       "<div>\n",
       "<style scoped>\n",
       "    .dataframe tbody tr th:only-of-type {\n",
       "        vertical-align: middle;\n",
       "    }\n",
       "\n",
       "    .dataframe tbody tr th {\n",
       "        vertical-align: top;\n",
       "    }\n",
       "\n",
       "    .dataframe thead th {\n",
       "        text-align: right;\n",
       "    }\n",
       "</style>\n",
       "<table border=\"1\" class=\"dataframe\">\n",
       "  <thead>\n",
       "    <tr style=\"text-align: right;\">\n",
       "      <th></th>\n",
       "      <th>count</th>\n",
       "      <th>mean</th>\n",
       "      <th>std</th>\n",
       "      <th>min</th>\n",
       "      <th>25%</th>\n",
       "      <th>50%</th>\n",
       "      <th>75%</th>\n",
       "      <th>max</th>\n",
       "    </tr>\n",
       "  </thead>\n",
       "  <tbody>\n",
       "    <tr>\n",
       "      <th>Unnamed: 0</th>\n",
       "      <td>956.0</td>\n",
       "      <td>477.500000</td>\n",
       "      <td>276.117729</td>\n",
       "      <td>0.0</td>\n",
       "      <td>238.75</td>\n",
       "      <td>477.5</td>\n",
       "      <td>716.25</td>\n",
       "      <td>955.0</td>\n",
       "    </tr>\n",
       "    <tr>\n",
       "      <th>Rating</th>\n",
       "      <td>956.0</td>\n",
       "      <td>3.601255</td>\n",
       "      <td>1.067619</td>\n",
       "      <td>-1.0</td>\n",
       "      <td>3.30</td>\n",
       "      <td>3.8</td>\n",
       "      <td>4.20</td>\n",
       "      <td>5.0</td>\n",
       "    </tr>\n",
       "    <tr>\n",
       "      <th>Founded</th>\n",
       "      <td>956.0</td>\n",
       "      <td>1774.605649</td>\n",
       "      <td>598.942517</td>\n",
       "      <td>-1.0</td>\n",
       "      <td>1937.00</td>\n",
       "      <td>1992.0</td>\n",
       "      <td>2008.00</td>\n",
       "      <td>2019.0</td>\n",
       "    </tr>\n",
       "  </tbody>\n",
       "</table>\n",
       "</div>"
      ],
      "text/plain": [
       "            count         mean         std  min      25%     50%      75%  \\\n",
       "Unnamed: 0  956.0   477.500000  276.117729  0.0   238.75   477.5   716.25   \n",
       "Rating      956.0     3.601255    1.067619 -1.0     3.30     3.8     4.20   \n",
       "Founded     956.0  1774.605649  598.942517 -1.0  1937.00  1992.0  2008.00   \n",
       "\n",
       "               max  \n",
       "Unnamed: 0   955.0  \n",
       "Rating         5.0  \n",
       "Founded     2019.0  "
      ]
     },
     "execution_count": 8,
     "metadata": {},
     "output_type": "execute_result"
    }
   ],
   "source": [
    "df.describe().T"
   ]
  },
  {
   "cell_type": "markdown",
   "id": "11d0b99d",
   "metadata": {},
   "source": [
    "Exploratory Data Analysis & Data Cleaning\n",
    "\n",
    "Plotting bargraphs and countplots for numerical and categorical features respectively.\n",
    "\n",
    "Removing unwanted columns\n",
    "\n",
    "Handling NaN/missing values\n",
    "\n",
    "Removing unwanted alphabet/special characters from the features"
   ]
  },
  {
   "cell_type": "code",
   "execution_count": 9,
   "id": "f722b6a6",
   "metadata": {},
   "outputs": [
    {
     "name": "stdout",
     "output_type": "stream",
     "text": [
      "Shape before removing: (956, 15)\n",
      "Shape after removing: (956, 14)\n"
     ]
    }
   ],
   "source": [
    "# Removing unwanted column\n",
    "print('Shape before removing: {}'.format(df.shape))\n",
    "df.drop(labels=['Unnamed: 0'], axis='columns', inplace=True)\n",
    "print('Shape after removing: {}'.format(df.shape))"
   ]
  },
  {
   "cell_type": "code",
   "execution_count": 10,
   "id": "a809fc46",
   "metadata": {},
   "outputs": [],
   "source": [
    "# Importing visualization libraries\n",
    "import matplotlib.pyplot as plt\n",
    "import seaborn as sns\n",
    "%matplotlib inline"
   ]
  },
  {
   "cell_type": "code",
   "execution_count": 11,
   "id": "d2586481",
   "metadata": {},
   "outputs": [
    {
     "name": "stderr",
     "output_type": "stream",
     "text": [
      "C:\\Users\\chait\\anaconda3\\lib\\site-packages\\seaborn\\distributions.py:2619: FutureWarning: `distplot` is a deprecated function and will be removed in a future version. Please adapt your code to use either `displot` (a figure-level function with similar flexibility) or `histplot` (an axes-level function for histograms).\n",
      "  warnings.warn(msg, FutureWarning)\n"
     ]
    },
    {
     "data": {
      "image/png": "[encoded data removed]",
      "text/plain": [
       "<Figure size 432x432 with 1 Axes>"
      ]
     },
     "metadata": {
      "needs_background": "light"
     },
     "output_type": "display_data"
    }
   ],
   "source": [
    "# Visualising Rating column\n",
    "plt.figure(figsize=(6,6))\n",
    "g = sns.distplot(a=df['Rating'])\n",
    "p = plt.title('Before handling -1 value')"
   ]
  },
  {
   "cell_type": "markdown",
   "id": "1aed721c",
   "metadata": {},
   "source": [
    "Note: Since the Rating feature follows the Gaussian/Normal Distribution, we'll replace -1 values with mean of the distribution."
   ]
  },
  {
   "cell_type": "code",
   "execution_count": 12,
   "id": "5faf76cb",
   "metadata": {},
   "outputs": [
    {
     "name": "stderr",
     "output_type": "stream",
     "text": [
      "C:\\Users\\chait\\anaconda3\\lib\\site-packages\\seaborn\\distributions.py:2619: FutureWarning: `distplot` is a deprecated function and will be removed in a future version. Please adapt your code to use either `displot` (a figure-level function with similar flexibility) or `histplot` (an axes-level function for histograms).\n",
      "  warnings.warn(msg, FutureWarning)\n"
     ]
    },
    {
     "data": {
      "image/png": "[encoded data removed]",
      "text/plain": [
       "<Figure size 432x432 with 1 Axes>"
      ]
     },
     "metadata": {
      "needs_background": "light"
     },
     "output_type": "display_data"
    }
   ],
   "source": [
    "# Handling -1 values in Rating column\n",
    "df['Rating'] = df['Rating'].apply(lambda x: np.NaN if x==-1 else x)\n",
    "df['Rating'] = df['Rating'].fillna(df['Rating'].mean())\n",
    "\n",
    "plt.figure(figsize=(6,6))\n",
    "g = sns.distplot(a=df['Rating'])\n",
    "p = plt.title('After handling -1 value')"
   ]
  },
  {
   "cell_type": "code",
   "execution_count": 13,
   "id": "ddd521bd",
   "metadata": {},
   "outputs": [
    {
     "data": {
      "image/png": "[encoded data removed]",
      "text/plain": [
       "<Figure size 360x360 with 1 Axes>"
      ]
     },
     "metadata": {
      "needs_background": "light"
     },
     "output_type": "display_data"
    }
   ],
   "source": [
    "# Outliers in Rating\n",
    "plt.figure(figsize=(5,5))\n",
    "sns.boxplot(y='Rating', data=df, orient='v', palette='Set1')\n",
    "p = plt.title('Boxplot for Rating')\n",
    "p = plt.ylabel('Rating')"
   ]
  },
  {
   "cell_type": "code",
   "execution_count": 14,
   "id": "9291cf49",
   "metadata": {},
   "outputs": [
    {
     "name": "stderr",
     "output_type": "stream",
     "text": [
      "C:\\Users\\chait\\anaconda3\\lib\\site-packages\\seaborn\\distributions.py:2619: FutureWarning: `distplot` is a deprecated function and will be removed in a future version. Please adapt your code to use either `displot` (a figure-level function with similar flexibility) or `histplot` (an axes-level function for histograms).\n",
      "  warnings.warn(msg, FutureWarning)\n"
     ]
    },
    {
     "data": {
      "image/png": "[encoded data removed]",
      "text/plain": [
       "<Figure size 432x432 with 1 Axes>"
      ]
     },
     "metadata": {
      "needs_background": "light"
     },
     "output_type": "display_data"
    }
   ],
   "source": [
    "# Visualising Founded column\n",
    "plt.figure(figsize=(6,6))\n",
    "g = sns.distplot(a=df['Founded'])\n",
    "p = plt.title('Before handling -1 value')"
   ]
  },
  {
   "cell_type": "markdown",
   "id": "5ee00f77",
   "metadata": {},
   "source": [
    "Note: Since Founded feature does not follow Gaussian/Normal distribution but is Right-Skewed graph, we'll replacing the -1 values with median of the distribution."
   ]
  },
  {
   "cell_type": "code",
   "execution_count": 15,
   "id": "36d65d42",
   "metadata": {},
   "outputs": [
    {
     "name": "stderr",
     "output_type": "stream",
     "text": [
      "C:\\Users\\chait\\anaconda3\\lib\\site-packages\\seaborn\\distributions.py:2619: FutureWarning: `distplot` is a deprecated function and will be removed in a future version. Please adapt your code to use either `displot` (a figure-level function with similar flexibility) or `histplot` (an axes-level function for histograms).\n",
      "  warnings.warn(msg, FutureWarning)\n"
     ]
    },
    {
     "data": {
      "image/png": "[encoded data removed]",
      "text/plain": [
       "<Figure size 432x432 with 1 Axes>"
      ]
     },
     "metadata": {
      "needs_background": "light"
     },
     "output_type": "display_data"
    }
   ],
   "source": [
    "# Handling -1 values in Founded column\n",
    "df['Founded'] = df['Founded'].apply(lambda x: np.NaN if x==-1 else x)\n",
    "df['Founded'] = df['Founded'].fillna(int(df['Founded'].median()))\n",
    "df['Founded'] = df['Founded'].astype('int')\n",
    "\n",
    "plt.figure(figsize=(6,6))\n",
    "g = sns.distplot(a=df['Founded'])\n",
    "p = plt.title('After handling -1 value')"
   ]
  },
  {
   "cell_type": "code",
   "execution_count": 16,
   "id": "42810aea",
   "metadata": {},
   "outputs": [
    {
     "data": {
      "image/png": "[encoded data removed]",
      "text/plain": [
       "<Figure size 360x360 with 1 Axes>"
      ]
     },
     "metadata": {
      "needs_background": "light"
     },
     "output_type": "display_data"
    }
   ],
   "source": [
    "# Outliers in Founded\n",
    "plt.figure(figsize=(5,5))\n",
    "sns.boxplot(y='Founded', data=df, orient='v', palette='Set1')\n",
    "p = plt.title('Boxplot for Founded')\n",
    "p = plt.ylabel('Founded year')"
   ]
  },
  {
   "cell_type": "code",
   "execution_count": 17,
   "id": "d7bffa17",
   "metadata": {},
   "outputs": [
    {
     "data": {
      "text/plain": [
       "Data Scientist                                            178\n",
       "Data Engineer                                              68\n",
       "Senior Data Scientist                                      42\n",
       "Data Analyst                                               18\n",
       "Senior Data Engineer                                       17\n",
       "Business Intelligence Analyst                              13\n",
       "Senior Data Analyst                                        12\n",
       "Lead Data Scientist                                         8\n",
       "Data Science Manager                                        7\n",
       "Principal Data Scientist                                    6\n",
       "Machine Learning Engineer                                   6\n",
       "Marketing Data Analyst                                      6\n",
       "Sr. Data Engineer                                           6\n",
       "Analytics Manager                                           5\n",
       "Lead Data Engineer                                          5\n",
       "Data Engineer 5 - Contract                                  4\n",
       "Pharmacovigilance Scientist (Senior Pharmacovigilance)      4\n",
       "Big Data Engineer                                           4\n",
       "Staff Scientist-Downstream Process Development              4\n",
       "Food Scientist - Developer                                  4\n",
       "Name: Job Title, dtype: int64"
      ]
     },
     "execution_count": 17,
     "metadata": {},
     "output_type": "execute_result"
    }
   ],
   "source": [
    "# Cleaning Job Title column\n",
    "df['Job Title'].value_counts().nlargest(20)"
   ]
  },
  {
   "cell_type": "code",
   "execution_count": 18,
   "id": "4b7908b9",
   "metadata": {},
   "outputs": [
    {
     "data": {
      "text/plain": [
       "data scientist    560\n",
       "data engineer     158\n",
       "data analyst      105\n",
       "other              72\n",
       "manager            35\n",
       "director           13\n",
       "mle                13\n",
       "Name: job_title, dtype: int64"
      ]
     },
     "execution_count": 18,
     "metadata": {},
     "output_type": "execute_result"
    }
   ],
   "source": [
    "def title_cleaner(title):\n",
    "    if 'data scientist' in title.lower() or 'scientist' in title.lower():\n",
    "        return 'data scientist'\n",
    "    elif 'data engineer' in title.lower():\n",
    "        return 'data engineer'\n",
    "    elif 'data analyst' in title.lower():\n",
    "        return 'data analyst'\n",
    "    elif 'machine learning' in title.lower():\n",
    "        return 'mle'\n",
    "    elif 'manager' in title.lower():\n",
    "        return 'manager'\n",
    "    elif 'director' in title.lower():\n",
    "        return 'director'\n",
    "    else:\n",
    "        return 'other'\n",
    "\n",
    "df['job_title'] = df['Job Title'].apply(title_cleaner)\n",
    "df['job_title'].value_counts()"
   ]
  },
  {
   "cell_type": "code",
   "execution_count": 19,
   "id": "71337f83",
   "metadata": {},
   "outputs": [
    {
     "data": {
      "image/png": "[encoded data removed]",
      "text/plain": [
       "<Figure size 576x576 with 1 Axes>"
      ]
     },
     "metadata": {
      "needs_background": "light"
     },
     "output_type": "display_data"
    }
   ],
   "source": [
    "plt.figure(figsize=(8,8))\n",
    "g = sns.countplot(x='job_title', data=df, order = df['job_title'].value_counts().index)\n",
    "p = plt.title('Count plot for Job Title')\n",
    "p = plt.xlabel('Job Title')\n",
    "p = plt.ylabel('Count')\n",
    "p = g.set_xticklabels(g.get_xticklabels(), rotation=45, horizontalalignment='right')"
   ]
  },
  {
   "cell_type": "code",
   "execution_count": 20,
   "id": "5673cd50",
   "metadata": {},
   "outputs": [
    {
     "data": {
      "text/plain": [
       "other    701\n",
       "sr       252\n",
       "jr         3\n",
       "Name: job_seniority, dtype: int64"
      ]
     },
     "execution_count": 20,
     "metadata": {},
     "output_type": "execute_result"
    }
   ],
   "source": [
    "def title_seniority(title):\n",
    "    if 'sr.' in title.lower() or 'senior' in title.lower() or 'lead' in title.lower() or 'principal' in title.lower():\n",
    "            return 'sr'\n",
    "    elif 'junior' in title.lower() or 'jr.' in title.lower():\n",
    "        return 'jr'\n",
    "    else:\n",
    "        return 'other'\n",
    "\n",
    "df['job_seniority'] = df['Job Title'].apply(title_seniority)\n",
    "df['job_seniority'].value_counts()"
   ]
  },
  {
   "cell_type": "code",
   "execution_count": 21,
   "id": "7384630a",
   "metadata": {},
   "outputs": [
    {
     "data": {
      "image/png": "[encoded data removed]",
      "text/plain": [
       "<Figure size 576x576 with 1 Axes>"
      ]
     },
     "metadata": {
      "needs_background": "light"
     },
     "output_type": "display_data"
    }
   ],
   "source": [
    "plt.figure(figsize=(8,8))\n",
    "g = sns.countplot(x='job_seniority', data=df, order = df['job_seniority'].value_counts().index)\n",
    "p = plt.title('Count plot for Job Seniority')\n",
    "p = plt.xlabel('Job Seniority')\n",
    "p = plt.ylabel('Count')"
   ]
  },
  {
   "cell_type": "code",
   "execution_count": 22,
   "id": "5a9f2748",
   "metadata": {},
   "outputs": [],
   "source": [
    "# Removing Job Title column\n",
    "df.drop(labels=['Job Title'], axis=1, inplace=True)"
   ]
  },
  {
   "cell_type": "code",
   "execution_count": 23,
   "id": "a30f8bf3",
   "metadata": {},
   "outputs": [
    {
     "data": {
      "text/plain": [
       "0       $53K-$91K \n",
       "1      $63K-$112K \n",
       "2       $80K-$90K \n",
       "3       $56K-$97K \n",
       "4      $86K-$143K \n",
       "          ...     \n",
       "951    $72K-$133K \n",
       "952     $56K-$91K \n",
       "953    $95K-$160K \n",
       "954             -1\n",
       "955    $61K-$126K \n",
       "Name: Salary Estimate, Length: 956, dtype: object"
      ]
     },
     "execution_count": 23,
     "metadata": {},
     "output_type": "execute_result"
    }
   ],
   "source": [
    "# Cleaning Salary Estimate column\n",
    "salary = df['Salary Estimate'].apply(lambda x: x.split(\"(\")[0])\n",
    "salary"
   ]
  },
  {
   "cell_type": "code",
   "execution_count": 24,
   "id": "88e27ad3",
   "metadata": {},
   "outputs": [
    {
     "data": {
      "text/plain": [
       "-1                  214\n",
       "$86K-$143K            6\n",
       "$54K-$115K            6\n",
       "$49K-$113K            6\n",
       "$21-$34 Per Hour      6\n",
       "                   ... \n",
       "$74K-$119K            1\n",
       "$55K-$97K             1\n",
       "$15K-$16K             1\n",
       "$61K-$106K            1\n",
       "$62K-$113K            1\n",
       "Name: Salary Estimate, Length: 417, dtype: int64"
      ]
     },
     "execution_count": 24,
     "metadata": {},
     "output_type": "execute_result"
    }
   ],
   "source": [
    "salary.value_counts()"
   ]
  },
  {
   "cell_type": "code",
   "execution_count": 25,
   "id": "2f3e0646",
   "metadata": {},
   "outputs": [
    {
     "data": {
      "text/plain": [
       "0       $53K-$91K \n",
       "1      $63K-$112K \n",
       "2       $80K-$90K \n",
       "3       $56K-$97K \n",
       "4      $86K-$143K \n",
       "          ...     \n",
       "951    $72K-$133K \n",
       "952     $56K-$91K \n",
       "953    $95K-$160K \n",
       "954            NaN\n",
       "955    $61K-$126K \n",
       "Name: Salary Estimate, Length: 956, dtype: object"
      ]
     },
     "execution_count": 25,
     "metadata": {},
     "output_type": "execute_result"
    }
   ],
   "source": [
    "salary = salary.apply(lambda x: np.NaN if x=='-1' else x)\n",
    "salary"
   ]
  },
  {
   "cell_type": "code",
   "execution_count": 26,
   "id": "b6857811",
   "metadata": {},
   "outputs": [
    {
     "data": {
      "text/plain": [
       "0       53-91 \n",
       "1      63-112 \n",
       "2       80-90 \n",
       "3       56-97 \n",
       "4      86-143 \n",
       "        ...   \n",
       "951    72-133 \n",
       "952     56-91 \n",
       "953    95-160 \n",
       "954        NaN\n",
       "955    61-126 \n",
       "Name: Salary Estimate, Length: 956, dtype: object"
      ]
     },
     "execution_count": 26,
     "metadata": {},
     "output_type": "execute_result"
    }
   ],
   "source": [
    "# Removing '$' and 'K' from 'Salary Estimate' column\n",
    "salary = salary.apply(lambda x: x if type(x)== type(3.5) else x.replace('$','').replace('K',''))\n",
    "salary"
   ]
  },
  {
   "cell_type": "code",
   "execution_count": 27,
   "id": "917a1620",
   "metadata": {},
   "outputs": [
    {
     "data": {
      "text/plain": [
       "0       53-91 \n",
       "1      63-112 \n",
       "2       80-90 \n",
       "3       56-97 \n",
       "4      86-143 \n",
       "        ...   \n",
       "951    72-133 \n",
       "952     56-91 \n",
       "953    95-160 \n",
       "954        NaN\n",
       "955    61-126 \n",
       "Name: Salary Estimate, Length: 956, dtype: object"
      ]
     },
     "execution_count": 27,
     "metadata": {},
     "output_type": "execute_result"
    }
   ],
   "source": [
    "# Removing '$' and 'K' from 'Salary Estimate' column\n",
    "salary = salary.apply(lambda x: x if type(x)== type(3.5) else x.replace('$','').replace('K',''))\n",
    "salary"
   ]
  },
  {
   "cell_type": "markdown",
   "id": "84fa1c98",
   "metadata": {},
   "source": [
    "Note: Converting per hour salaries to per year salaries (assuming 45 work hours per week and 52 working weeks), \n",
    "    and removing employer_provided_salary from the salary array."
   ]
  },
  {
   "cell_type": "code",
   "execution_count": 28,
   "id": "6f8e45d6",
   "metadata": {},
   "outputs": [
    {
     "data": {
      "text/plain": [
       "array(['42-79 ', '84-153 ', '44-73 ', '40-87 ', '72-142 ', '74-137 ',\n",
       "       '57-109 ', '136-208 ', '171-272 ', '65-126 ', '118-228 ',\n",
       "       '113-182 ', '58-104 ', '58-108 ', '81-161 ', '115-220 ', '71-144 ',\n",
       "       '32-57 ', '79-136 ', '48-113 ', '27-47 per hour', '68-125 ',\n",
       "       '39-67 ', '71-135 ', '61-123 ', '87-141 ', '71-121 ', '72-121 ',\n",
       "       '51-88 ', '101-141 ', '79-127 ', '81-132 ', '120-140', '65-113 ',\n",
       "       '59-125 ', '80-142 ', '62-113 '], dtype=object)"
      ]
     },
     "execution_count": 28,
     "metadata": {},
     "output_type": "execute_result"
    }
   ],
   "source": [
    "# Removing the string employer provided salary from salary array\n",
    "salary = salary.apply(lambda x: x if type(x)==type(3.5) else x.lower().replace(\"employer provided salary:\", \"\"))\n",
    "salary.unique()[380:]"
   ]
  },
  {
   "cell_type": "code",
   "execution_count": 29,
   "id": "6afe38bf",
   "metadata": {},
   "outputs": [
    {
     "data": {
      "text/plain": [
       "array(['42-79 ', '84-153 ', '44-73 ', '40-87 ', '72-142 ', '74-137 ',\n",
       "       '57-109 ', '136-208 ', '171-272 ', '65-126 ', '118-228 ',\n",
       "       '113-182 ', '58-104 ', '58-108 ', '81-161 ', '115-220 ', '71-144 ',\n",
       "       '32-57 ', '79-136 ', '48-113 ', '63-109', '68-125 ', '39-67 ',\n",
       "       '71-135 ', '61-123 ', '87-141 ', '71-121 ', '72-121 ', '51-88 ',\n",
       "       '101-141 ', '79-127 ', '81-132 ', '120-140', '65-113 ', '59-125 ',\n",
       "       '80-142 ', '62-113 '], dtype=object)"
      ]
     },
     "execution_count": 29,
     "metadata": {},
     "output_type": "execute_result"
    }
   ],
   "source": [
    "# Converting per hour salaries to per year salaries\n",
    "def hourly_to_yearly(minlimit, maxlimit):\n",
    "  x = minlimit.strip()\n",
    "  y = maxlimit.strip()\n",
    "  x = int(int(minlimit)*45*52/1000)\n",
    "  y = int(int(maxlimit)*45*52/1000)\n",
    "  return '{}-{}'.format(x,y)\n",
    "\n",
    "salary = salary.apply(lambda x: x if type(x)==type(3.5) else (hourly_to_yearly(x.lower().replace(\"per hour\", \"\").split('-')[0], x.lower().replace(\"per hour\", \"\").split('-')[1]) if \"per hour\" in x.lower() else x))\n",
    "salary.unique()[380:]"
   ]
  },
  {
   "cell_type": "code",
   "execution_count": 30,
   "id": "ab1ba1b1",
   "metadata": {},
   "outputs": [
    {
     "name": "stderr",
     "output_type": "stream",
     "text": [
      "C:\\Users\\chait\\anaconda3\\lib\\site-packages\\seaborn\\distributions.py:2619: FutureWarning: `distplot` is a deprecated function and will be removed in a future version. Please adapt your code to use either `displot` (a figure-level function with similar flexibility) or `histplot` (an axes-level function for histograms).\n",
      "  warnings.warn(msg, FutureWarning)\n"
     ]
    },
    {
     "data": {
      "image/png": "[encoded data removed]",
      "text/plain": [
       "<Figure size 432x432 with 1 Axes>"
      ]
     },
     "metadata": {
      "needs_background": "light"
     },
     "output_type": "display_data"
    }
   ],
   "source": [
    "# Creating column for salary i.e. average of the range\n",
    "df['Salary'] = salary.apply(lambda x:  x if type(x)==type(3.5) else (int(x.split(\"-\")[0]) + int(x.split(\"-\")[1].strip()))/2)\n",
    "\n",
    "plt.figure(figsize=(6,6))\n",
    "g = sns.distplot(a=df['Salary'])\n",
    "p = plt.title('Before handling NaN values')"
   ]
  },
  {
   "cell_type": "markdown",
   "id": "309a3b28",
   "metadata": {},
   "source": [
    "Note: Since the Rating feature follows the Gaussian/Normal Distribution, but since there are few outlies, \n",
    "    we'll replace -1 values with median of the distribution."
   ]
  },
  {
   "cell_type": "code",
   "execution_count": 31,
   "id": "80bc2313",
   "metadata": {},
   "outputs": [
    {
     "name": "stderr",
     "output_type": "stream",
     "text": [
      "C:\\Users\\chait\\anaconda3\\lib\\site-packages\\seaborn\\distributions.py:2619: FutureWarning: `distplot` is a deprecated function and will be removed in a future version. Please adapt your code to use either `displot` (a figure-level function with similar flexibility) or `histplot` (an axes-level function for histograms).\n",
      "  warnings.warn(msg, FutureWarning)\n"
     ]
    },
    {
     "data": {
      "image/png": "[encoded data removed]",
      "text/plain": [
       "<Figure size 432x432 with 1 Axes>"
      ]
     },
     "metadata": {
      "needs_background": "light"
     },
     "output_type": "display_data"
    }
   ],
   "source": [
    "# Handling NaN values in Salary column\n",
    "df['Salary'] = df['Salary'].fillna(df['Salary'].median())\n",
    "\n",
    "plt.figure(figsize=(6,6))\n",
    "g = sns.distplot(a=df['Salary'])\n",
    "p = plt.title('After handling NaN value')"
   ]
  },
  {
   "cell_type": "code",
   "execution_count": 32,
   "id": "f2a656cb",
   "metadata": {},
   "outputs": [
    {
     "data": {
      "image/png": "[encoded data removed]",
      "text/plain": [
       "<Figure size 360x360 with 1 Axes>"
      ]
     },
     "metadata": {
      "needs_background": "light"
     },
     "output_type": "display_data"
    }
   ],
   "source": [
    "# Outliers in Salary\n",
    "plt.figure(figsize=(5,5))\n",
    "g = sns.boxplot(y='Salary', data=df, orient='v', palette='Set1')\n",
    "p = plt.title('Boxplot for Salary')\n",
    "p = plt.ylabel('Salary')"
   ]
  },
  {
   "cell_type": "code",
   "execution_count": 33,
   "id": "4fa11dc6",
   "metadata": {},
   "outputs": [],
   "source": [
    "# Cleaning Company Name column\n",
    "df[\"Company Name\"] = df['Company Name'].apply(lambda x: x.split(\"\\n\")[0])"
   ]
  },
  {
   "cell_type": "code",
   "execution_count": 34,
   "id": "5dbca6aa",
   "metadata": {},
   "outputs": [
    {
     "data": {
      "image/png": "[encoded data removed]",
      "text/plain": [
       "<Figure size 576x576 with 1 Axes>"
      ]
     },
     "metadata": {
      "needs_background": "light"
     },
     "output_type": "display_data"
    }
   ],
   "source": [
    "plt.figure(figsize=(8,8))\n",
    "g = df[\"Company Name\"].value_counts().nlargest(15).plot(kind='barh')\n",
    "p = plt.title('Top 15 Company Names')\n",
    "p = plt.xlabel('Count')"
   ]
  },
  {
   "cell_type": "code",
   "execution_count": 35,
   "id": "0270e2e5",
   "metadata": {},
   "outputs": [
    {
     "name": "stdout",
     "output_type": "stream",
     "text": [
      "Total number of unique locations: 46\n"
     ]
    }
   ],
   "source": [
    "# Creating a column 'job_state'\n",
    "df['job_location'] = df['Location'].apply(lambda x: x if ',' not in x else x.split(',')[1].strip())\n",
    "print('Total number of unique locations: {}'.format(len(df['job_location'].unique())))"
   ]
  },
  {
   "cell_type": "code",
   "execution_count": 36,
   "id": "a3a6fbd4",
   "metadata": {},
   "outputs": [
    {
     "data": {
      "image/png": "[encoded data removed]",
      "text/plain": [
       "<Figure size 576x576 with 1 Axes>"
      ]
     },
     "metadata": {
      "needs_background": "light"
     },
     "output_type": "display_data"
    }
   ],
   "source": [
    "plt.figure(figsize=(8,8))\n",
    "g = df[\"job_location\"].value_counts().nlargest(15).plot(kind='barh')\n",
    "p = plt.title('Top 15 Job Locations')\n",
    "p = plt.xlabel('Count')"
   ]
  },
  {
   "cell_type": "code",
   "execution_count": 37,
   "id": "6e079154",
   "metadata": {},
   "outputs": [
    {
     "data": {
      "text/plain": [
       "1001 to 5000 employees     177\n",
       "201 to 500 employees       160\n",
       "51 to 200 employees        155\n",
       "10000+ employees           154\n",
       "501 to 1000 employees      144\n",
       "5001 to 10000 employees     79\n",
       "1 to 50 employees           61\n",
       "Unknown                     15\n",
       "-1                          11\n",
       "Name: Size, dtype: int64"
      ]
     },
     "execution_count": 37,
     "metadata": {},
     "output_type": "execute_result"
    }
   ],
   "source": [
    "df['Size'].value_counts()"
   ]
  },
  {
   "cell_type": "code",
   "execution_count": 38,
   "id": "6612b259",
   "metadata": {},
   "outputs": [],
   "source": [
    "# Cleaning 'Size' column\n",
    "def size_simplifier(text):\n",
    "  if '-1' in text.lower():\n",
    "    return 'Unknown'\n",
    "  else:\n",
    "    return text\n",
    "\n",
    "df['Size'] = df['Size'].apply(size_simplifier)"
   ]
  },
  {
   "cell_type": "code",
   "execution_count": 39,
   "id": "12825146",
   "metadata": {},
   "outputs": [
    {
     "data": {
      "image/png": "[encoded data removed]",
      "text/plain": [
       "<Figure size 576x576 with 1 Axes>"
      ]
     },
     "metadata": {
      "needs_background": "light"
     },
     "output_type": "display_data"
    }
   ],
   "source": [
    "plt.figure(figsize=(8,8))\n",
    "g = sns.countplot(x='Size', data=df, order = df['Size'].value_counts().index)\n",
    "p = plt.title('Count plot for Company Size')\n",
    "p = plt.xlabel('Company Size')\n",
    "p = plt.ylabel('Count')\n",
    "p = g.set_xticklabels(g.get_xticklabels(), rotation=45, horizontalalignment='right')"
   ]
  },
  {
   "cell_type": "code",
   "execution_count": null,
   "id": "c10c7896",
   "metadata": {},
   "outputs": [],
   "source": []
  }
 ],
 "metadata": {
  "kernelspec": {
   "display_name": "Python 3 (ipykernel)",
   "language": "python",
   "name": "python3"
  },
  "language_info": {
   "codemirror_mode": {
    "name": "ipython",
    "version": 3
   },
   "file_extension": ".py",
   "mimetype": "text/x-python",
   "name": "python",
   "nbconvert_exporter": "python",
   "pygments_lexer": "ipython3",
   "version": "3.9.12"
  }
 },
 "nbformat": 4,
 "nbformat_minor": 5
}
