{
 "cells": [
  {
   "cell_type": "code",
   "execution_count": 2,
   "id": "0cee6917",
   "metadata": {},
   "outputs": [],
   "source": [
    "import pandas as pd \n",
    "import numpy as np\n",
    "from sklearn.datasets import load_digits\n",
    "import warnings\n",
    "warnings.filterwarnings(\"ignore\")"
   ]
  },
  {
   "cell_type": "code",
   "execution_count": 3,
   "id": "21d46f7f",
   "metadata": {},
   "outputs": [],
   "source": [
    "import seaborn as sns; sns.set()\n",
    "import matplotlib.pyplot as plt"
   ]
  },
  {
   "cell_type": "code",
   "execution_count": 4,
   "id": "445f2176",
   "metadata": {},
   "outputs": [],
   "source": [
    "# Load Data\n",
    "digits = load_digits()"
   ]
  },
  {
   "cell_type": "code",
   "execution_count": 5,
   "id": "dc364bb7",
   "metadata": {},
   "outputs": [],
   "source": [
    "# Create features\n",
    "X = digits.data"
   ]
  },
  {
   "cell_type": "code",
   "execution_count": 6,
   "id": "74d98e41",
   "metadata": {},
   "outputs": [],
   "source": [
    "# Create target\n",
    "y = digits.target"
   ]
  },
  {
   "cell_type": "code",
   "execution_count": 7,
   "id": "44efea49",
   "metadata": {},
   "outputs": [
    {
     "data": {
      "text/plain": [
       "(1797, 64)"
      ]
     },
     "execution_count": 7,
     "metadata": {},
     "output_type": "execute_result"
    }
   ],
   "source": [
    "# Check shape of X\n",
    "X.shape"
   ]
  },
  {
   "cell_type": "code",
   "execution_count": 8,
   "id": "156e7179",
   "metadata": {},
   "outputs": [
    {
     "data": {
      "text/plain": [
       "<Figure size 432x288 with 0 Axes>"
      ]
     },
     "metadata": {},
     "output_type": "display_data"
    },
    {
     "data": {
      "image/png": "[encoded data removed]",
      "text/plain": [
       "<Figure size 288x288 with 1 Axes>"
      ]
     },
     "metadata": {},
     "output_type": "display_data"
    }
   ],
   "source": [
    "# Let's see how the image looks like\n",
    "plt.gray() \n",
    "plt.matshow(digits.images[59]) \n",
    "plt.show()"
   ]
  },
  {
   "cell_type": "code",
   "execution_count": 9,
   "id": "9eda2d6c",
   "metadata": {},
   "outputs": [
    {
     "data": {
      "text/plain": [
       "3"
      ]
     },
     "execution_count": 9,
     "metadata": {},
     "output_type": "execute_result"
    }
   ],
   "source": [
    "# Target Value\n",
    "y[59]"
   ]
  },
  {
   "cell_type": "code",
   "execution_count": 10,
   "id": "d1e57495",
   "metadata": {},
   "outputs": [],
   "source": [
    "from sklearn.model_selection import train_test_split \n",
    "X_train , X_test ,y_train , y_test = train_test_split(X, y, test_size = 0.25,random_state=0)"
   ]
  },
  {
   "cell_type": "markdown",
   "id": "3825245d",
   "metadata": {},
   "source": [
    "MAX-VOTING"
   ]
  },
  {
   "cell_type": "code",
   "execution_count": 11,
   "id": "3360f3c8",
   "metadata": {},
   "outputs": [
    {
     "data": {
      "text/plain": [
       "0.9044444444444445"
      ]
     },
     "execution_count": 11,
     "metadata": {},
     "output_type": "execute_result"
    }
   ],
   "source": [
    "from sklearn.linear_model import LogisticRegression\n",
    "from sklearn.tree import DecisionTreeClassifier\n",
    "from sklearn.ensemble import VotingClassifier\n",
    "model1 = LogisticRegression(random_state=1)\n",
    "model2 = DecisionTreeClassifier(random_state=1)\n",
    "model = VotingClassifier(estimators=[('lr', model1), ('dt', model2)], voting='hard')\n",
    "model.fit(X_train,y_train)\n",
    "model.score(X_test,y_test)"
   ]
  },
  {
   "cell_type": "code",
   "execution_count": 12,
   "id": "a5942767",
   "metadata": {},
   "outputs": [
    {
     "data": {
      "text/plain": [
       "array([2, 3, 2, 6, 6, 7, 1, 9, 8, 2, 2, 8, 6, 6, 6, 6, 1, 0, 5, 8, 8, 7,\n",
       "       8, 4, 7, 5, 4, 9, 2, 9, 4, 7, 6, 8, 9, 4, 3, 1, 0, 1, 8, 6, 7, 7,\n",
       "       1, 0, 7, 6, 2, 1, 9, 6, 7, 9, 0, 0, 3, 1, 6, 3, 0, 2, 3, 4, 1, 9,\n",
       "       2, 6, 9, 1, 8, 3, 5, 1, 2, 1, 2, 2, 9, 7, 2, 3, 6, 0, 5, 2, 7, 5,\n",
       "       1, 2, 0, 9, 3, 1, 4, 7, 4, 8, 5, 8, 5, 5, 2, 5, 9, 0, 7, 1, 4, 7,\n",
       "       3, 4, 8, 9, 7, 1, 8, 0, 1, 5, 2, 5, 8, 4, 1, 3, 0, 6, 1, 5, 5, 3,\n",
       "       9, 5, 9, 9, 5, 7, 5, 6, 2, 8, 6, 9, 6, 1, 5, 1, 5, 9, 9, 1, 3, 3,\n",
       "       6, 1, 8, 9, 8, 7, 6, 7, 6, 5, 6, 0, 8, 8, 9, 8, 1, 1, 0, 4, 1, 6,\n",
       "       3, 8, 6, 7, 4, 3, 6, 2, 0, 3, 3, 3, 0, 2, 7, 5, 7, 8, 0, 7, 1, 9,\n",
       "       6, 4, 5, 0, 1, 4, 6, 1, 3, 3, 0, 9, 5, 5, 2, 1, 4, 2, 1, 6, 8, 9,\n",
       "       2, 4, 9, 3, 7, 6, 2, 3, 2, 1, 6, 9, 3, 6, 3, 2, 2, 0, 7, 6, 1, 1,\n",
       "       9, 7, 2, 7, 8, 5, 5, 7, 5, 2, 3, 7, 2, 7, 5, 5, 7, 0, 9, 1, 6, 5,\n",
       "       9, 7, 4, 3, 8, 0, 3, 6, 4, 6, 3, 2, 6, 1, 8, 8, 4, 6, 7, 5, 2, 4,\n",
       "       5, 3, 2, 4, 6, 9, 0, 5, 4, 3, 4, 6, 2, 9, 0, 1, 7, 2, 0, 9, 6, 0,\n",
       "       4, 2, 0, 7, 5, 8, 5, 7, 8, 2, 8, 4, 3, 2, 2, 6, 4, 1, 5, 1, 0, 8,\n",
       "       2, 3, 3, 5, 6, 2, 2, 7, 2, 1, 5, 1, 6, 4, 5, 0, 9, 4, 1, 1, 7, 0,\n",
       "       8, 9, 0, 5, 4, 3, 8, 3, 6, 5, 3, 4, 4, 4, 8, 3, 7, 0, 9, 6, 3, 5,\n",
       "       2, 3, 0, 8, 8, 3, 1, 3, 3, 0, 0, 1, 6, 0, 7, 7, 6, 2, 0, 4, 4, 2,\n",
       "       3, 7, 1, 9, 8, 6, 8, 5, 6, 2, 2, 3, 1, 5, 7, 8, 0, 3, 3, 1, 1, 5,\n",
       "       5, 9, 1, 3, 7, 0, 0, 0, 0, 4, 5, 8, 3, 3, 4, 1, 1, 8, 9, 3, 3, 6,\n",
       "       2, 1, 6, 2, 1, 7, 5, 5, 1, 9])"
      ]
     },
     "execution_count": 12,
     "metadata": {},
     "output_type": "execute_result"
    }
   ],
   "source": [
    "pred1 = model.predict(X_test)\n",
    "pred1"
   ]
  },
  {
   "cell_type": "code",
   "execution_count": 11,
   "id": "d8108a90",
   "metadata": {},
   "outputs": [],
   "source": [
    "from sklearn.neighbors import KNeighborsClassifier"
   ]
  },
  {
   "cell_type": "markdown",
   "id": "a166d665",
   "metadata": {},
   "source": [
    "AVERAGING"
   ]
  },
  {
   "cell_type": "code",
   "execution_count": 12,
   "id": "09f1bfb4",
   "metadata": {},
   "outputs": [],
   "source": [
    "model1 = DecisionTreeClassifier()\n",
    "model2 = KNeighborsClassifier()\n",
    "model3= LogisticRegression()\n",
    "\n",
    "model1.fit(X_train,y_train)\n",
    "model2.fit(X_train,y_train)\n",
    "model3.fit(X_train,y_train)\n",
    "\n",
    "pred1=model1.predict_proba(X_test)\n",
    "pred2=model2.predict_proba(X_test)\n",
    "pred3=model3.predict_proba(X_test)\n",
    "\n",
    "finalpred=(pred1+pred2+pred3)/3"
   ]
  },
  {
   "cell_type": "code",
   "execution_count": 13,
   "id": "6c9999f0",
   "metadata": {},
   "outputs": [
    {
     "data": {
      "text/plain": [
       "array([[9.78805428e-15, 7.55700536e-13, 1.00000000e+00, ...,\n",
       "        2.06710995e-10, 1.64009489e-12, 1.18189996e-15],\n",
       "       [2.75292521e-08, 1.10440203e-04, 2.67886320e-05, ...,\n",
       "        1.18308544e-09, 6.36391105e-01, 1.66613837e-08],\n",
       "       [1.57014657e-21, 2.43362934e-11, 1.00000000e+00, ...,\n",
       "        4.41811723e-15, 2.21901020e-15, 1.16273328e-18],\n",
       "       ...,\n",
       "       [1.58585922e-11, 2.93255184e-15, 5.23847280e-17, ...,\n",
       "        6.31699743e-17, 1.56364267e-12, 4.72625409e-10],\n",
       "       [1.62686849e-14, 9.92597224e-01, 2.09120578e-08, ...,\n",
       "        7.94298842e-12, 3.31748016e-04, 5.64107042e-13],\n",
       "       [9.70598241e-09, 3.95109789e-17, 5.29234971e-14, ...,\n",
       "        2.17703936e-12, 3.41440298e-08, 9.99994313e-01]])"
      ]
     },
     "execution_count": 13,
     "metadata": {},
     "output_type": "execute_result"
    }
   ],
   "source": [
    "finalpred"
   ]
  },
  {
   "cell_type": "markdown",
   "id": "b3654800",
   "metadata": {},
   "source": [
    "WEIGHTED AVERAGE"
   ]
  },
  {
   "cell_type": "code",
   "execution_count": 14,
   "id": "8c104a4a",
   "metadata": {},
   "outputs": [],
   "source": [
    "model1 = DecisionTreeClassifier()\n",
    "model2 = KNeighborsClassifier()\n",
    "model3= LogisticRegression()\n",
    "\n",
    "model1.fit(X_train,y_train)\n",
    "model2.fit(X_train,y_train)\n",
    "model3.fit(X_train,y_train)\n",
    "\n",
    "pred1=model1.predict_proba(X_test)\n",
    "pred2=model2.predict_proba(X_test)\n",
    "pred3=model3.predict_proba(X_test)\n",
    "\n",
    "finalpred1=(pred1*0.3+pred2*0.3+pred3*0.4)\n",
    " "
   ]
  },
  {
   "cell_type": "code",
   "execution_count": 15,
   "id": "8022f67d",
   "metadata": {},
   "outputs": [
    {
     "data": {
      "text/plain": [
       "array([[1.17456651e-14, 9.06840643e-13, 1.00000000e+00, ...,\n",
       "        2.48053194e-10, 1.96811387e-12, 1.41827995e-15],\n",
       "       [3.30351025e-08, 1.32528244e-04, 3.21463584e-05, ...,\n",
       "        1.41970253e-09, 6.63669326e-01, 1.99936604e-08],\n",
       "       [1.88417588e-21, 2.92035521e-11, 1.00000000e+00, ...,\n",
       "        5.30174067e-15, 2.66281224e-15, 1.39527993e-18],\n",
       "       ...,\n",
       "       [1.90303106e-11, 3.51906220e-15, 6.28616736e-17, ...,\n",
       "        7.58039692e-17, 1.87637121e-12, 5.67150490e-10],\n",
       "       [1.95224219e-14, 9.91116668e-01, 2.50944694e-08, ...,\n",
       "        9.53158610e-12, 3.98097620e-04, 6.76928451e-13],\n",
       "       [1.16471789e-08, 4.74131747e-17, 6.35081966e-14, ...,\n",
       "        2.61244723e-12, 4.09728358e-08, 9.99993176e-01]])"
      ]
     },
     "execution_count": 15,
     "metadata": {},
     "output_type": "execute_result"
    }
   ],
   "source": [
    "finalpred1"
   ]
  },
  {
   "cell_type": "markdown",
   "id": "707aaa5e",
   "metadata": {},
   "source": [
    "BAGGING"
   ]
  },
  {
   "cell_type": "code",
   "execution_count": 16,
   "id": "f253ee66",
   "metadata": {},
   "outputs": [
    {
     "name": "stdout",
     "output_type": "stream",
     "text": [
      "LogisticRegression :::: Mean: 0.966589275843007 , Std Dev: 0.012103162157998674\n",
      "Bagging LogisticRegression :::: Mean: 0.890138197899392 Std Dev: 0.027906409101383024 \n",
      "\n",
      "DecisionTreeClassifier :::: Mean: 0.8507573244886677 , Std Dev: 0.026544057886113047\n",
      "Bagging DecisionTreeClassifier :::: Mean: 0.864914317302377 Std Dev: 0.02984238207654206 \n",
      "\n",
      "RandomForestClassifier :::: Mean: 0.970287451630735 , Std Dev: 0.01452239920138009\n",
      "Bagging RandomForestClassifier :::: Mean: 0.9331840796019902 Std Dev: 0.019603677503639363 \n",
      "\n",
      "KNeighborsClassifier :::: Mean: 0.9858872305140961 , Std Dev: 0.011237752854310985\n",
      "Bagging KNeighborsClassifier :::: Mean: 0.9280044223327805 Std Dev: 0.019293079323269298 \n",
      "\n",
      "VotingClassifier :::: Mean: 0.9755002763957987 Std Dev: 0.011237752854310985\n"
     ]
    }
   ],
   "source": [
    "from sklearn.tree import DecisionTreeClassifier\n",
    "from sklearn.ensemble import RandomForestClassifier, ExtraTreesClassifier, BaggingClassifier, VotingClassifier\n",
    "from sklearn.linear_model import LogisticRegression\n",
    "from sklearn.neighbors import KNeighborsClassifier\n",
    "from sklearn.svm import SVC\n",
    "from sklearn.model_selection import cross_val_score\n",
    "\n",
    "lr_clf = LogisticRegression() \n",
    "dt_clf = DecisionTreeClassifier() \n",
    "rf_clf = RandomForestClassifier() \n",
    "knn_clf = KNeighborsClassifier() \n",
    "\n",
    "classifiers =[lr_clf, dt_clf, rf_clf,knn_clf]\n",
    "for clf in classifiers:\n",
    "    clf_scores = cross_val_score(clf, X_train, y_train, cv = 10)\n",
    "    bagging_clf = BaggingClassifier(clf, max_samples=0.4, max_features=10, random_state=0)\n",
    "    bagging_clf_scores = cross_val_score(bagging_clf, X_train, y_train, cv = 10)\n",
    "    print(clf.__class__.__name__, \":::: Mean:\", clf_scores.mean(), \", Std Dev:\", clf_scores.std())\n",
    "    print(\"Bagging\", clf.__class__.__name__, \":::: Mean:\", bagging_clf_scores.mean(), \"Std Dev:\", bagging_clf_scores.std(), \"\\n\")\n",
    "\n",
    "ensembler = VotingClassifier(estimators=[('LogisticRegression', lr_clf), ('DecisionTreeClassifier', dt_clf),\n",
    "                                        ('RandomForestClassifier', rf_clf), \n",
    "                                        ('KNeighborsClassifier', knn_clf)], voting = 'hard')\n",
    "\n",
    "\n",
    "ensembler_scores = cross_val_score(ensembler, X_train, y_train, cv = 10)\n",
    "print(ensembler.__class__.__name__, \":::: Mean:\", ensembler_scores.mean(), \"Std Dev:\", clf_scores.std())"
   ]
  },
  {
   "cell_type": "markdown",
   "id": "77a69705",
   "metadata": {},
   "source": []
  },
  {
   "cell_type": "markdown",
   "id": "492f25ef",
   "metadata": {},
   "source": [
    "BOOSTING"
   ]
  },
  {
   "cell_type": "code",
   "execution_count": 19,
   "id": "a45c5398",
   "metadata": {},
   "outputs": [
    {
     "name": "stdout",
     "output_type": "stream",
     "text": [
      "Collecting xgboost\n",
      "  Downloading xgboost-1.7.2-py3-none-win_amd64.whl (89.1 MB)\n",
      "Requirement already satisfied: scipy in c:\\users\\chait\\anaconda3\\lib\\site-packages (from xgboost) (1.7.3)\n",
      "Requirement already satisfied: numpy in c:\\users\\chait\\anaconda3\\lib\\site-packages (from xgboost) (1.21.5)\n",
      "Installing collected packages: xgboost\n",
      "Successfully installed xgboost-1.7.2\n",
      "Note: you may need to restart the kernel to use updated packages.\n"
     ]
    }
   ],
   "source": [
    "pip install xgboost"
   ]
  },
  {
   "cell_type": "code",
   "execution_count": 21,
   "id": "c218b670",
   "metadata": {},
   "outputs": [
    {
     "name": "stdout",
     "output_type": "stream",
     "text": [
      "AdaBoostClassifier :::: Mean: 0.2917412935323383 Std Dev: 0.014467564701341888\n",
      "GradientBoostingClassifier :::: Mean: 0.960630182421227 Std Dev: 0.01493341306292966\n",
      "XGBClassifier :::: Mean: 0.9598783858485351 Std Dev: 0.018018577703694614\n",
      "VotingClassifier :::: Mean: 0.95914317302377 Std Dev: 0.016739063553753517\n"
     ]
    }
   ],
   "source": [
    "from sklearn.ensemble import AdaBoostClassifier, GradientBoostingClassifier\n",
    "from xgboost import XGBClassifier\n",
    "from sklearn.model_selection import cross_val_score\n",
    "\n",
    "ab_clf = AdaBoostClassifier() \n",
    "gb_clf = GradientBoostingClassifier() \n",
    "xgb_clf = XGBClassifier() \n",
    "\n",
    "ensembler = VotingClassifier(estimators=[('AdaBoostClassifier', ab_clf), ('GradientBoostingClassifier', gb_clf),\n",
    "                                        ('XGBClassifier', xgb_clf)], voting = 'hard')\n",
    "\n",
    "classifiers =[ab_clf, gb_clf, xgb_clf, ensembler]\n",
    "for clf in classifiers:\n",
    "    clf_scores = cross_val_score(clf, X_train, y_train, cv = 10)\n",
    "    print(clf.__class__.__name__, \":::: Mean:\", clf_scores.mean(), \"Std Dev:\", clf_scores.std())"
   ]
  },
  {
   "cell_type": "markdown",
   "id": "44622350",
   "metadata": {},
   "source": [
    "STACKING"
   ]
  },
  {
   "cell_type": "code",
   "execution_count": 22,
   "id": "8dd7fd95",
   "metadata": {},
   "outputs": [
    {
     "name": "stdout",
     "output_type": "stream",
     "text": [
      "LogisticRegression :::: Mean: 0.9638658559056569 Std Dev: 0.012972943027234587\n",
      "DecisionTreeClassifier :::: Mean: 0.8467974940114245 Std Dev: 0.026008985392383627\n",
      "KNeighborsClassifier :::: Mean: 0.9863921135065414 Std Dev: 0.009974818500848482\n",
      "SVC :::: Mean: 0.9873834531048462 Std Dev: 0.009980704810764629\n",
      "GaussianNB :::: Mean: 0.8388852036115717 Std Dev: 0.025806522543515405\n",
      "StackingClassifier :::: Mean: 0.9854007739082365 Std Dev: 0.01107907405869239\n"
     ]
    }
   ],
   "source": [
    "from sklearn.model_selection import cross_val_score, RepeatedStratifiedKFold\n",
    "from sklearn.linear_model import LogisticRegression\n",
    "from sklearn.neighbors import KNeighborsClassifier\n",
    "from sklearn.tree import DecisionTreeClassifier\n",
    "from sklearn.svm import SVC\n",
    "from sklearn.naive_bayes import GaussianNB\n",
    "from sklearn.ensemble import StackingClassifier\n",
    "\n",
    "def get_stacking():\n",
    "    level0 = [('lr_classifier', LogisticRegression()), ('dt_classifier', DecisionTreeClassifier()),\n",
    "              ('knn_classifier', KNeighborsClassifier()), ('svm_classifier', SVC()), ('gnb_classifier', GaussianNB())]\n",
    "    level1 = LogisticRegression()\n",
    "    model = StackingClassifier(estimators=level0, final_estimator=level1, cv=10)\n",
    "    return model\n",
    "\n",
    "\n",
    "lr_classifier = LogisticRegression()\n",
    "dt_classifier = DecisionTreeClassifier()\n",
    "knn_classifier = KNeighborsClassifier()\n",
    "svm_classifier = SVC()\n",
    "gnb_classifier = GaussianNB()\n",
    "stacking_classifier = get_stacking()\n",
    "\n",
    "classifiers = [lr_classifier, dt_classifier, knn_classifier, svm_classifier, gnb_classifier, stacking_classifier]\n",
    "for clf in classifiers:\n",
    "    cv = RepeatedStratifiedKFold(n_splits=10, n_repeats=3, random_state=0)\n",
    "    clf_scores = cross_val_score(clf, X_train, y_train, scoring='accuracy', cv=cv, n_jobs=-1, error_score='raise')\n",
    "    print(clf.__class__.__name__, \":::: Mean:\", clf_scores.mean(), \"Std Dev:\", clf_scores.std())"
   ]
  },
  {
   "cell_type": "code",
   "execution_count": null,
   "id": "3794a1e5",
   "metadata": {},
   "outputs": [],
   "source": []
  }
 ],
 "metadata": {
  "kernelspec": {
   "display_name": "Python 3 (ipykernel)",
   "language": "python",
   "name": "python3"
  },
  "language_info": {
   "codemirror_mode": {
    "name": "ipython",
    "version": 3
   },
   "file_extension": ".py",
   "mimetype": "text/x-python",
   "name": "python",
   "nbconvert_exporter": "python",
   "pygments_lexer": "ipython3",
   "version": "3.9.12"
  }
 },
 "nbformat": 4,
 "nbformat_minor": 5
}
