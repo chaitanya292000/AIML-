{
 "cells": [
  {
   "cell_type": "code",
   "execution_count": 1,
   "id": "5e766c63",
   "metadata": {},
   "outputs": [],
   "source": [
    "import numpy as np \n",
    "import pandas as pd \n",
    "from sklearn.model_selection import train_test_split\n",
    "from sklearn.datasets import load_digits"
   ]
  },
  {
   "cell_type": "code",
   "execution_count": 2,
   "id": "748425c1",
   "metadata": {},
   "outputs": [
    {
     "name": "stdout",
     "output_type": "stream",
     "text": [
      "(1797, 64)\n"
     ]
    }
   ],
   "source": [
    "mnist = load_digits()\n",
    "print(mnist.data.shape)"
   ]
  },
  {
   "cell_type": "code",
   "execution_count": 3,
   "id": "ebff1ab4",
   "metadata": {},
   "outputs": [
    {
     "name": "stdout",
     "output_type": "stream",
     "text": [
      ".. _digits_dataset:\n",
      "\n",
      "Optical recognition of handwritten digits dataset\n",
      "--------------------------------------------------\n",
      "\n",
      "**Data Set Characteristics:**\n",
      "\n",
      "    :Number of Instances: 1797\n",
      "    :Number of Attributes: 64\n",
      "    :Attribute Information: 8x8 image of integer pixels in the range 0..16.\n",
      "    :Missing Attribute Values: None\n",
      "    :Creator: E. Alpaydin (alpaydin '@' boun.edu.tr)\n",
      "    :Date: July; 1998\n",
      "\n",
      "This is a copy of the test set of the UCI ML hand-written digits datasets\n",
      "https://archive.ics.uci.edu/ml/datasets/Optical+Recognition+of+Handwritten+Digits\n",
      "\n",
      "The data set contains images of hand-written digits: 10 classes where\n",
      "each class refers to a digit.\n",
      "\n",
      "Preprocessing programs made available by NIST were used to extract\n",
      "normalized bitmaps of handwritten digits from a preprinted form. From a\n",
      "total of 43 people, 30 contributed to the training set and different 13\n",
      "to the test set. 32x32 bitmaps are divided into nonoverlapping blocks of\n",
      "4x4 and the number of on pixels are counted in each block. This generates\n",
      "an input matrix of 8x8 where each element is an integer in the range\n",
      "0..16. This reduces dimensionality and gives invariance to small\n",
      "distortions.\n",
      "\n",
      "For info on NIST preprocessing routines, see M. D. Garris, J. L. Blue, G.\n",
      "T. Candela, D. L. Dimmick, J. Geist, P. J. Grother, S. A. Janet, and C.\n",
      "L. Wilson, NIST Form-Based Handprint Recognition System, NISTIR 5469,\n",
      "1994.\n",
      "\n",
      ".. topic:: References\n",
      "\n",
      "  - C. Kaynak (1995) Methods of Combining Multiple Classifiers and Their\n",
      "    Applications to Handwritten Digit Recognition, MSc Thesis, Institute of\n",
      "    Graduate Studies in Science and Engineering, Bogazici University.\n",
      "  - E. Alpaydin, C. Kaynak (1998) Cascading Classifiers, Kybernetika.\n",
      "  - Ken Tang and Ponnuthurai N. Suganthan and Xi Yao and A. Kai Qin.\n",
      "    Linear dimensionalityreduction using relevance weighted LDA. School of\n",
      "    Electrical and Electronic Engineering Nanyang Technological University.\n",
      "    2005.\n",
      "  - Claudio Gentile. A New Approximate Maximal Margin Classification\n",
      "    Algorithm. NIPS. 2000.\n",
      "\n"
     ]
    }
   ],
   "source": [
    "print(mnist.DESCR)"
   ]
  },
  {
   "cell_type": "code",
   "execution_count": 4,
   "id": "8db09698",
   "metadata": {},
   "outputs": [],
   "source": [
    " images = mnist.images\n",
    "labels = mnist.target\n",
    "data_size = len(images)"
   ]
  },
  {
   "cell_type": "code",
   "execution_count": 5,
   "id": "49d8d87d",
   "metadata": {},
   "outputs": [],
   "source": [
    "from sklearn.preprocessing import scale\n",
    "images = images.reshape(data_size , -1)\n",
    "images = scale(images)"
   ]
  },
  {
   "cell_type": "code",
   "execution_count": 6,
   "id": "6c44c76e",
   "metadata": {},
   "outputs": [],
   "source": [
    "X = mnist.data \n",
    "y = mnist.target"
   ]
  },
  {
   "cell_type": "code",
   "execution_count": 7,
   "id": "a381aa90",
   "metadata": {},
   "outputs": [],
   "source": [
    "X_train, X_test, y_train, y_test = train_test_split(X, y, test_size=0.25, random_state=123)"
   ]
  },
  {
   "cell_type": "code",
   "execution_count": 8,
   "id": "57d8bdac",
   "metadata": {},
   "outputs": [
    {
     "name": "stdout",
     "output_type": "stream",
     "text": [
      "(1347, 64) (1347,)\n",
      "(450, 64) (450,)\n"
     ]
    }
   ],
   "source": [
    "print(X_train.shape, y_train.shape)\n",
    "print(X_test.shape, y_test.shape)"
   ]
  },
  {
   "cell_type": "code",
   "execution_count": 9,
   "id": "6674ce13",
   "metadata": {},
   "outputs": [
    {
     "name": "stdout",
     "output_type": "stream",
     "text": [
      "(array([0, 1, 2, 3, 4, 5, 6, 7, 8, 9]), array([127, 140, 136, 143, 129, 134, 133, 138, 129, 138], dtype=int64))\n",
      "(array([0, 1, 2, 3, 4, 5, 6, 7, 8, 9]), array([51, 42, 41, 40, 52, 48, 48, 41, 45, 42], dtype=int64))\n"
     ]
    }
   ],
   "source": [
    "print(np.unique(y_train,return_counts=True))\n",
    "print(np.unique(y_test,return_counts=True))"
   ]
  },
  {
   "cell_type": "code",
   "execution_count": 10,
   "id": "58657829",
   "metadata": {},
   "outputs": [],
   "source": [
    "from sklearn.neighbors import KNeighborsClassifier as KNN\n",
    "from sklearn.metrics import precision_recall_fscore_support\n",
    "from sklearn.metrics import accuracy_score\n",
    "from sklearn.model_selection import cross_val_score"
   ]
  },
  {
   "cell_type": "code",
   "execution_count": 11,
   "id": "2ace6fca",
   "metadata": {},
   "outputs": [
    {
     "name": "stdout",
     "output_type": "stream",
     "text": [
      "n_neighbors= 3; Accuracy: 0.9777777777777777  : VAl Score :[0.95555556 0.9532294  0.97327394 0.97104677]\n",
      "n_neighbors= 5; Accuracy: 0.9755555555555555  : VAl Score :[0.94888889 0.96659243 0.97104677 0.96436526]\n",
      "n_neighbors= 7; Accuracy: 0.9755555555555555  : VAl Score :[0.94444444 0.96436526 0.97104677 0.9532294 ]\n",
      "n_neighbors= 9; Accuracy: 0.9755555555555555  : VAl Score :[0.93555556 0.96213808 0.97327394 0.95545657]\n",
      "n_neighbors= 11; Accuracy: 0.9711111111111111  : VAl Score :[0.94222222 0.93986637 0.97104677 0.95545657]\n",
      "n_neighbors= 13; Accuracy: 0.9688888888888889  : VAl Score :[0.94222222 0.93986637 0.9688196  0.9532294 ]\n",
      "n_neighbors= 15; Accuracy: 0.9666666666666667  : VAl Score :[0.94       0.93541203 0.97550111 0.9532294 ]\n",
      "n_neighbors= 17; Accuracy: 0.9666666666666667  : VAl Score :[0.93555556 0.94209354 0.97327394 0.94877506]\n",
      "n_neighbors= 19; Accuracy: 0.9644444444444444  : VAl Score :[0.93555556 0.9376392  0.9688196  0.94877506]\n",
      "n_neighbors= 21; Accuracy: 0.9666666666666667  : VAl Score :[0.92444444 0.9376392  0.97327394 0.94654788]\n",
      "n_neighbors= 23; Accuracy: 0.9644444444444444  : VAl Score :[0.92222222 0.93541203 0.96659243 0.94877506]\n",
      "n_neighbors= 25; Accuracy: 0.9644444444444444  : VAl Score :[0.92666667 0.93541203 0.96213808 0.94877506]\n",
      "n_neighbors= 27; Accuracy: 0.9666666666666667  : VAl Score :[0.93111111 0.93095768 0.95991091 0.94877506]\n",
      "n_neighbors= 29; Accuracy: 0.96  : VAl Score :[0.93111111 0.92427617 0.9532294  0.94432071]\n",
      "n_neighbors= 31; Accuracy: 0.96  : VAl Score :[0.92888889 0.93095768 0.94877506 0.94209354]\n",
      "n_neighbors= 33; Accuracy: 0.96  : VAl Score :[0.93111111 0.93318486 0.94877506 0.94209354]\n",
      "n_neighbors= 35; Accuracy: 0.9577777777777777  : VAl Score :[0.92888889 0.93318486 0.94432071 0.94209354]\n",
      "n_neighbors= 37; Accuracy: 0.9577777777777777  : VAl Score :[0.93333333 0.93318486 0.93986637 0.93986637]\n",
      "n_neighbors= 39; Accuracy: 0.9577777777777777  : VAl Score :[0.93333333 0.92650334 0.93541203 0.93986637]\n",
      "n_neighbors= 41; Accuracy: 0.9533333333333334  : VAl Score :[0.93111111 0.92650334 0.92650334 0.93541203]\n",
      "n_neighbors= 43; Accuracy: 0.9511111111111111  : VAl Score :[0.93111111 0.92427617 0.922049   0.93095768]\n",
      "n_neighbors= 45; Accuracy: 0.9488888888888889  : VAl Score :[0.93111111 0.92427617 0.92427617 0.92873051]\n",
      "n_neighbors= 47; Accuracy: 0.9444444444444444  : VAl Score :[0.92888889 0.922049   0.92427617 0.92427617]\n",
      "n_neighbors= 49; Accuracy: 0.94  : VAl Score :[0.92888889 0.922049   0.922049   0.92873051]\n",
      "n_neighbors= 51; Accuracy: 0.9355555555555556  : VAl Score :[0.92888889 0.92427617 0.91759465 0.92650334]\n",
      "n_neighbors= 53; Accuracy: 0.9355555555555556  : VAl Score :[0.92666667 0.91982183 0.91982183 0.92650334]\n",
      "n_neighbors= 55; Accuracy: 0.9333333333333333  : VAl Score :[0.92666667 0.91759465 0.91536748 0.92873051]\n",
      "n_neighbors= 57; Accuracy: 0.9333333333333333  : VAl Score :[0.92444444 0.91982183 0.91314031 0.92427617]\n",
      "n_neighbors= 59; Accuracy: 0.9288888888888889  : VAl Score :[0.91777778 0.922049   0.91314031 0.92650334]\n",
      "n_neighbors= 61; Accuracy: 0.9311111111111111  : VAl Score :[0.91777778 0.91982183 0.91314031 0.91982183]\n",
      "n_neighbors= 63; Accuracy: 0.9333333333333333  : VAl Score :[0.92       0.91759465 0.91536748 0.91759465]\n",
      "n_neighbors= 65; Accuracy: 0.9311111111111111  : VAl Score :[0.92       0.91982183 0.91091314 0.91759465]\n",
      "n_neighbors= 67; Accuracy: 0.9266666666666666  : VAl Score :[0.92444444 0.91982183 0.91091314 0.91759465]\n",
      "n_neighbors= 69; Accuracy: 0.9266666666666666  : VAl Score :[0.92222222 0.91982183 0.91314031 0.91759465]\n",
      "n_neighbors= 71; Accuracy: 0.9288888888888889  : VAl Score :[0.92222222 0.91982183 0.91314031 0.91314031]\n",
      "n_neighbors= 73; Accuracy: 0.9288888888888889  : VAl Score :[0.91555556 0.91536748 0.91314031 0.91759465]\n",
      "n_neighbors= 75; Accuracy: 0.9266666666666666  : VAl Score :[0.91111111 0.91091314 0.91536748 0.91536748]\n",
      "n_neighbors= 77; Accuracy: 0.9244444444444444  : VAl Score :[0.91333333 0.9064588  0.9064588  0.91314031]\n",
      "n_neighbors= 79; Accuracy: 0.92  : VAl Score :[0.91111111 0.90423163 0.90868597 0.90423163]\n",
      "n_neighbors= 81; Accuracy: 0.9222222222222223  : VAl Score :[0.90666667 0.90423163 0.90200445 0.90200445]\n",
      "n_neighbors= 83; Accuracy: 0.9177777777777778  : VAl Score :[0.90444444 0.9064588  0.9064588  0.90423163]\n",
      "n_neighbors= 85; Accuracy: 0.9177777777777778  : VAl Score :[0.90666667 0.9064588  0.9064588  0.90200445]\n",
      "n_neighbors= 87; Accuracy: 0.9177777777777778  : VAl Score :[0.90444444 0.90423163 0.9064588  0.89755011]\n",
      "n_neighbors= 89; Accuracy: 0.9133333333333333  : VAl Score :[0.90444444 0.89532294 0.9064588  0.89309577]\n",
      "n_neighbors= 91; Accuracy: 0.9088888888888889  : VAl Score :[0.90444444 0.89532294 0.90200445 0.89309577]\n",
      "n_neighbors= 93; Accuracy: 0.9088888888888889  : VAl Score :[0.9        0.89755011 0.90868597 0.8908686 ]\n",
      "n_neighbors= 95; Accuracy: 0.9066666666666666  : VAl Score :[0.90222222 0.89532294 0.9064588  0.8908686 ]\n",
      "n_neighbors= 97; Accuracy: 0.9088888888888889  : VAl Score :[0.9        0.89309577 0.9064588  0.8908686 ]\n",
      "n_neighbors= 99; Accuracy: 0.9066666666666666  : VAl Score :[0.90222222 0.89309577 0.90423163 0.88641425]\n"
     ]
    }
   ],
   "source": [
    "kVals = np.arange(3,100,2)\n",
    "accuracies = []\n",
    "for k in kVals:\n",
    "  model = KNN(n_neighbors= k)\n",
    "  model.fit(X_train, y_train)\n",
    "  scores = cross_val_score(model, X,y,cv=4, scoring='accuracy')\n",
    "  pred = model.predict(X_test)\n",
    "  acc = accuracy_score(y_test, pred)\n",
    "  accuracies.append(acc)\n",
    "  print(\"n_neighbors= \"+str(k)+\"; Accuracy: \"+str(acc) , \" : VAl Score :\"+str(scores))"
   ]
  },
  {
   "cell_type": "code",
   "execution_count": 12,
   "id": "c6e961f9",
   "metadata": {},
   "outputs": [
    {
     "data": {
      "text/plain": [
       "Text(0, 0.5, 'Accuracy')"
      ]
     },
     "execution_count": 12,
     "metadata": {},
     "output_type": "execute_result"
    },
    {
     "data": {
      "image/png": "[encoded data removed]",
      "text/plain": [
       "<Figure size 432x288 with 1 Axes>"
      ]
     },
     "metadata": {
      "needs_background": "light"
     },
     "output_type": "display_data"
    }
   ],
   "source": [
    "from matplotlib import pyplot as plt \n",
    "plt.plot(kVals, accuracies) \n",
    "plt.xlabel(\"K Value\") \n",
    "plt.ylabel(\"Accuracy\")"
   ]
  },
  {
   "cell_type": "code",
   "execution_count": 13,
   "id": "a0b8c1e2",
   "metadata": {},
   "outputs": [
    {
     "name": "stdout",
     "output_type": "stream",
     "text": [
      "Precision \n",
      " [1.         0.9929078  1.         1.         1.         1.\n",
      " 0.98518519 1.         0.9921875  0.99275362]\n",
      "\n",
      "Recall \n",
      " [1.         1.         1.         1.         1.         0.99253731\n",
      " 1.         0.99275362 0.98449612 0.99275362]\n",
      "\n",
      "F-score \n",
      " [1.         0.99644128 1.         1.         1.         0.99625468\n",
      " 0.99253731 0.99636364 0.98832685 0.99275362]\n"
     ]
    }
   ],
   "source": [
    "model = KNN(n_neighbors= 3) \n",
    "model.fit(X_train, y_train) \n",
    "pred = model.predict(X_train)\n",
    "precision, recall, fscore, _ = precision_recall_fscore_support(y_train, pred)\n",
    "print(\"Precision \\n\", precision)\n",
    "print(\"\\nRecall \\n\", recall)\n",
    "print(\"\\nF-score \\n\", fscore)"
   ]
  },
  {
   "cell_type": "code",
   "execution_count": 14,
   "id": "168552ad",
   "metadata": {},
   "outputs": [
    {
     "name": "stdout",
     "output_type": "stream",
     "text": [
      "Precision \n",
      " [1.         0.89361702 1.         0.95238095 0.98113208 1.\n",
      " 1.         1.         1.         0.95      ]\n",
      "\n",
      "Recall \n",
      " [1.         1.         1.         1.         1.         0.95833333\n",
      " 1.         1.         0.91111111 0.9047619 ]\n",
      "\n",
      "F-score \n",
      " [1.         0.94382022 1.         0.97560976 0.99047619 0.9787234\n",
      " 1.         1.         0.95348837 0.92682927]\n",
      "0.9777777777777777\n"
     ]
    }
   ],
   "source": [
    "model = KNN(n_neighbors= 3)\n",
    "model.fit(X_train, y_train)\n",
    "pred = model.predict(X_test)\n",
    "acc = accuracy_score(y_test, pred)\n",
    "precision, recall, fscore, _ = precision_recall_fscore_support(y_test, pred)\n",
    "print(\"Precision \\n\", precision)\n",
    "print(\"\\nRecall \\n\", recall)\n",
    "print(\"\\nF-score \\n\", fscore)\n",
    "print(acc)"
   ]
  },
  {
   "cell_type": "code",
   "execution_count": 15,
   "id": "88702ca8",
   "metadata": {},
   "outputs": [
    {
     "data": {
      "text/plain": [
       "0.022222222222222254"
      ]
     },
     "execution_count": 15,
     "metadata": {},
     "output_type": "execute_result"
    }
   ],
   "source": [
    "error_rate = 1- acc\n",
    "error_rate"
   ]
  },
  {
   "cell_type": "code",
   "execution_count": 16,
   "id": "28cb844b",
   "metadata": {},
   "outputs": [
    {
     "data": {
      "text/plain": [
       "array([[51,  0,  0,  0,  0,  0,  0,  0,  0,  0],\n",
       "       [ 0, 42,  0,  0,  0,  0,  0,  0,  0,  0],\n",
       "       [ 0,  0, 41,  0,  0,  0,  0,  0,  0,  0],\n",
       "       [ 0,  0,  0, 40,  0,  0,  0,  0,  0,  0],\n",
       "       [ 0,  0,  0,  0, 52,  0,  0,  0,  0,  0],\n",
       "       [ 0,  0,  0,  0,  0, 46,  0,  0,  0,  2],\n",
       "       [ 0,  0,  0,  0,  0,  0, 48,  0,  0,  0],\n",
       "       [ 0,  0,  0,  0,  0,  0,  0, 41,  0,  0],\n",
       "       [ 0,  4,  0,  0,  0,  0,  0,  0, 41,  0],\n",
       "       [ 0,  1,  0,  2,  1,  0,  0,  0,  0, 38]], dtype=int64)"
      ]
     },
     "execution_count": 16,
     "metadata": {},
     "output_type": "execute_result"
    }
   ],
   "source": [
    "from sklearn.metrics import confusion_matrix ,  classification_report\n",
    "CM = confusion_matrix(y_test,pred)\n",
    "CM"
   ]
  },
  {
   "cell_type": "code",
   "execution_count": 17,
   "id": "c847d6d4",
   "metadata": {},
   "outputs": [
    {
     "name": "stdout",
     "output_type": "stream",
     "text": [
      "Classification Report: \n",
      "              precision    recall  f1-score   support\n",
      "\n",
      "           0       1.00      1.00      1.00        51\n",
      "           1       0.89      1.00      0.94        42\n",
      "           2       1.00      1.00      1.00        41\n",
      "           3       0.95      1.00      0.98        40\n",
      "           4       0.98      1.00      0.99        52\n",
      "           5       1.00      0.96      0.98        48\n",
      "           6       1.00      1.00      1.00        48\n",
      "           7       1.00      1.00      1.00        41\n",
      "           8       1.00      0.91      0.95        45\n",
      "           9       0.95      0.90      0.93        42\n",
      "\n",
      "    accuracy                           0.98       450\n",
      "   macro avg       0.98      0.98      0.98       450\n",
      "weighted avg       0.98      0.98      0.98       450\n",
      "\n"
     ]
    }
   ],
   "source": [
    "print(f'Classification Report: \\n{classification_report(y_test, pred)}')"
   ]
  },
  {
   "cell_type": "code",
   "execution_count": 18,
   "id": "46abbc47",
   "metadata": {},
   "outputs": [
    {
     "data": {
      "text/plain": [
       "<AxesSubplot:>"
      ]
     },
     "execution_count": 18,
     "metadata": {},
     "output_type": "execute_result"
    },
    {
     "data": {
      "image/png": "[encoded data removed]",
      "text/plain": [
       "<Figure size 432x288 with 2 Axes>"
      ]
     },
     "metadata": {
      "needs_background": "light"
     },
     "output_type": "display_data"
    }
   ],
   "source": [
    "import seaborn as sns\n",
    "\n",
    "sns.heatmap(CM, annot=True, cmap='nipy_spectral_r')"
   ]
  },
  {
   "cell_type": "code",
   "execution_count": null,
   "id": "f10bc44b",
   "metadata": {},
   "outputs": [],
   "source": []
  }
 ],
 "metadata": {
  "kernelspec": {
   "display_name": "Python 3 (ipykernel)",
   "language": "python",
   "name": "python3"
  },
  "language_info": {
   "codemirror_mode": {
    "name": "ipython",
    "version": 3
   },
   "file_extension": ".py",
   "mimetype": "text/x-python",
   "name": "python",
   "nbconvert_exporter": "python",
   "pygments_lexer": "ipython3",
   "version": "3.9.12"
  }
 },
 "nbformat": 4,
 "nbformat_minor": 5
}
